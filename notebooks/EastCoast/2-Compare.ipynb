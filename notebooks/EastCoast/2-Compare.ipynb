{
 "cells": [
  {
   "cell_type": "code",
   "execution_count": 3,
   "id": "c4bd3e18",
   "metadata": {},
   "outputs": [
    {
     "name": "stdout",
     "output_type": "stream",
     "text": [
      "Automatic pdb calling has been turned OFF\n"
     ]
    }
   ],
   "source": [
    "%pdb off\n",
    "%matplotlib inline\n",
    "\n",
    "import os, os.path as op\n",
    "import socket, glob\n",
    "from pathlib import Path\n",
    "import xarray as xr\n",
    "from datetime import datetime\n",
    "# from VLM import *\n",
    "\n",
    "from IPython.display import Image, display\n",
    "from mintpy.cli import view, tsview\n",
    "from mintpy.utils import writefile, readfile, utils as ut\n",
    "from dataclasses import dataclass\n"
   ]
  },
  {
   "cell_type": "code",
   "execution_count": 12,
   "id": "fcea21c6",
   "metadata": {},
   "outputs": [
    {
     "name": "stdout",
     "output_type": "stream",
     "text": [
      "(ARIA)  2023-09-25 19:25:04.101337\n",
      "Track: 135\n"
     ]
    }
   ],
   "source": [
    "print (os.getenv('CONDA_PROMPT_MODIFIER'), datetime.now())\n",
    "print ('Track:', track)"
   ]
  },
  {
   "cell_type": "code",
   "execution_count": 5,
   "id": "c4e258c7",
   "metadata": {},
   "outputs": [],
   "source": [
    "# track to GPS station, its lalo\n",
    "dct_gps  = {33: ['NYBK', '40.703432 -73.978965'], \n",
    "            135: ['CTWF', '41.3358099728 -72.1155494566'], #['URIL', '41.4889420 -71.5277192'], \n",
    "            62: ['MAMI', '42.2720614 -71.0486846'], \n",
    "            164: ['MERO', '44.1137947 -69.1186410'], \n",
    "            91: ['HAL3', '44.6572781589 -63.6650616709']\n",
    "}\n",
    "\n",
    "\n",
    "# track to region name\n",
    "dct_reg  = {33: 'NYC', 135: 'RI', 62: 'Mass', 164: 'Maine', 91: 'NS'}"
   ]
  },
  {
   "cell_type": "code",
   "execution_count": 24,
   "id": "32c24db2",
   "metadata": {},
   "outputs": [
    {
     "name": "stdout",
     "output_type": "stream",
     "text": [
      "\n",
      "RI Experiment: CTWF_ERA5_PM_ex\n",
      "MintPy Directory: /u/leffe-data2/buzzanga/data/VLM/Sentinel1/EastCoast/track_135/CTWF_ERA5_PM_ex\n",
      "\n",
      "RI Experiment: CTWF_ERA5_PM_bridging_ex\n",
      "MintPy Directory: /u/leffe-data2/buzzanga/data/VLM/Sentinel1/EastCoast/track_135/CTWF_ERA5_PM_bridging_ex\n",
      "\n",
      "RI Experiment: CTWF_ERA5_PM_closure_ex\n",
      "MintPy Directory: /u/leffe-data2/buzzanga/data/VLM/Sentinel1/EastCoast/track_135/CTWF_ERA5_PM_closure_ex\n"
     ]
    }
   ],
   "source": [
    "@dataclass\n",
    "class ECExp:\n",
    "    track: int\n",
    "    mp_exp0: str\n",
    "\n",
    "    def __post_init__(self):\n",
    "        reg      = dct_reg[track]\n",
    "        ref_sta  = dct_gps[track][0]\n",
    "        mp_exp   = f'{ref_sta}_{self.mp_exp0}'\n",
    "        trackS   = str(track).zfill(3)\n",
    "        self.path_wd    = Path(os.getenv('dataroot')) / 'VLM' / 'Sentinel1' / 'EastCoast' / f'track_{trackS}'\n",
    "        self.path_wd_mp = self.path_wd / mp_exp\n",
    "        self.path_wd_mp.mkdir(exist_ok=True)\n",
    "\n",
    "        self.path_spacoh = self.path_wd_mp / 'avgSpatialCoh.h5'\n",
    "        self.path_tcoh   = self.path_wd_mp / 'temporalCoherence.h5'\n",
    "\n",
    "        \n",
    "        print (f'\\n{reg} Experiment:', mp_exp)\n",
    "        print ('MintPy Directory:', str(self.path_wd_mp))\n",
    "        \n",
    "        self.set_stack_paths()\n",
    "        self.set_mask_paths()\n",
    "        self.set_disp_paths()\n",
    "        \n",
    "    \n",
    "    def set_stack_paths(self):\n",
    "        self.path_ifgs  = self.path_wd_mp / 'inputs' / 'ifgramStack.h5'\n",
    "        self.path_geom  = self.path_wd_mp / 'inputs' / 'geometryGeo.h5'\n",
    "\n",
    "        \n",
    "    def set_mask_paths(self):\n",
    "        self.path_wmask  = self.path_wd_mp / 'waterMask.h5'\n",
    "        self.path_mask   = self.path_wd_mp / 'maskWaterTempCoh.h5' # combine\n",
    "\n",
    "        \n",
    "        \n",
    "    def set_disp_paths(self):\n",
    "        if 'ERA5' in self.mp_exp0:\n",
    "            self.path_ts      = self.path_wd_mp / 'timeseries_ERA5_demErr.h5'\n",
    "        else:\n",
    "            print ('Using only dem-error corrected timeseries')\n",
    "            self.path_ts      = self.path_wd_mp / 'timeseries_demErr.h5'\n",
    "        self.path_vlos    = self.path_wd_mp / 'velocity.h5'\n",
    "        self.path_vlos_pm = self.path_wd_mp / 'velocity_ITRF14.h5'\n",
    "\n",
    "        \n",
    "track    = 135\n",
    "\n",
    "track135    = ECExp(track, 'ERA5_PM_ex') # no unw corr\n",
    "track135_br = ECExp(track, 'ERA5_PM_bridging_ex') # phase closure\n",
    "track135_pc = ECExp(track, 'ERA5_PM_closure_ex') # bridging\n"
   ]
  },
  {
   "cell_type": "code",
   "execution_count": null,
   "id": "29f39194",
   "metadata": {},
   "outputs": [],
   "source": []
  }
 ],
 "metadata": {
  "kernelspec": {
   "display_name": "Python 3 (ipykernel)",
   "language": "python",
   "name": "python3"
  },
  "language_info": {
   "codemirror_mode": {
    "name": "ipython",
    "version": 3
   },
   "file_extension": ".py",
   "mimetype": "text/x-python",
   "name": "python",
   "nbconvert_exporter": "python",
   "pygments_lexer": "ipython3",
   "version": "3.9.15"
  },
  "latex_envs": {
   "LaTeX_envs_menu_present": true,
   "autoclose": false,
   "autocomplete": false,
   "bibliofile": "biblio.bib",
   "cite_by": "apalike",
   "current_citInitial": 1,
   "eqLabelWithNumbers": true,
   "eqNumInitial": 1,
   "hotkeys": {
    "equation": "Ctrl-E",
    "itemize": "Ctrl-I"
   },
   "labels_anchors": false,
   "latex_user_defs": false,
   "report_style_numbering": false,
   "user_envs_cfg": false
  }
 },
 "nbformat": 4,
 "nbformat_minor": 5
}
