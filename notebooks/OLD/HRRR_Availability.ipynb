{
 "cells": [
  {
   "cell_type": "code",
   "execution_count": 90,
   "id": "b410f20b",
   "metadata": {},
   "outputs": [
    {
     "name": "stdout",
     "output_type": "stream",
     "text": [
      "Automatic pdb calling has been turned OFF\n",
      "(ARIA)  2023-09-07 09:27:21.243326\n"
     ]
    }
   ],
   "source": [
    "import os\n",
    "from pathlib import Path\n",
    "from datetime import datetime\n",
    "from herbie import Herbie\n",
    "%pdb off\n",
    "%matplotlib inline\n",
    "print (os.getenv('CONDA_PROMPT_MODIFIER'), datetime.now())"
   ]
  },
  {
   "cell_type": "code",
   "execution_count": 81,
   "id": "0784f49b",
   "metadata": {},
   "outputs": [],
   "source": [
    "model   = 'hrrr'\n",
    "product = 'nat'\n",
    "fxx    = 0\n",
    "wd = Path(os.getenv('dataroot', './'))\n",
    "wd = wd / 'HRRR_availability'\n",
    "valid_range = (datetime(2016, 7, 15, 0), datetime.today())\n",
    "available_dates = dates = pd.date_range(valid_range[0], valid_range[1], freq='H')\n",
    "n_dt = len(available_dates)"
   ]
  },
  {
   "cell_type": "code",
   "execution_count": 84,
   "id": "73955f15",
   "metadata": {},
   "outputs": [
    {
     "name": "stdout",
     "output_type": "stream",
     "text": [
      "Started at: 2023-09-06 19:36:59.289994\n",
      "Date 0 of 62636\n",
      "Date 5000 of 62636\n",
      "Date 10000 of 62636\n",
      "Date 15000 of 62636\n",
      "Date 20000 of 62636\n",
      "Date 25000 of 62636\n",
      "Date 30000 of 62636\n",
      "Date 35000 of 62636\n",
      "Date 40000 of 62636\n",
      "Date 45000 of 62636\n",
      "Date 50000 of 62636\n",
      "Date 55000 of 62636\n",
      "Finished at: 2023-09-07 09:06:18.240831\n"
     ]
    }
   ],
   "source": [
    "lst_exist = []\n",
    "lst_miss  = []\n",
    "srcs = []\n",
    "print ('Started at:', datetime.now())\n",
    "for i, dt in enumerate(available_dates):\n",
    "    if i % 5000 == 0:\n",
    "        print (f'Date {i} of {n_dt}')\n",
    "        \n",
    "    H = Herbie(\n",
    "        dt.strftime('%Y-%m-%d %H:%M'),\n",
    "        model=model,\n",
    "        product=product,\n",
    "        fxx=fxx,\n",
    "        overwrite=False,\n",
    "        verbose=False,\n",
    "        save_dir=wd\n",
    "    )\n",
    "    \n",
    "    src = H.grib_source\n",
    "    if src is None:\n",
    "        lst_miss.append(dt)\n",
    "    else:\n",
    "        lst_exist.append(dt)\n",
    "    srcs.append(src)\n",
    "\n",
    "print ('Finished at:', datetime.now())"
   ]
  },
  {
   "cell_type": "code",
   "execution_count": 85,
   "id": "0ed67a9b",
   "metadata": {},
   "outputs": [
    {
     "data": {
      "text/plain": [
       "61739"
      ]
     },
     "execution_count": 85,
     "metadata": {},
     "output_type": "execute_result"
    }
   ],
   "source": [
    "len(lst_exist)"
   ]
  },
  {
   "cell_type": "code",
   "execution_count": 86,
   "id": "432f163a",
   "metadata": {},
   "outputs": [
    {
     "data": {
      "text/plain": [
       "897"
      ]
     },
     "execution_count": 86,
     "metadata": {},
     "output_type": "execute_result"
    }
   ],
   "source": [
    "len(lst_miss)"
   ]
  },
  {
   "cell_type": "code",
   "execution_count": 96,
   "id": "b7708ccf",
   "metadata": {},
   "outputs": [
    {
     "name": "stdout",
     "output_type": "stream",
     "text": [
      "Percent Missing: 1.43%\n"
     ]
    }
   ],
   "source": [
    "print (f'Percent Missing: {100*len(lst_miss)/n_dt:.2f}%')"
   ]
  },
  {
   "cell_type": "code",
   "execution_count": 107,
   "id": "d70ad257",
   "metadata": {},
   "outputs": [
    {
     "data": {
      "text/plain": [
       "Text(0, 0.5, 'Number of hours')"
      ]
     },
     "execution_count": 107,
     "metadata": {},
     "output_type": "execute_result"
    },
    {
     "data": {
      "image/png": "[encoded data removed]",
      "text/plain": [
       "<Figure size 864x576 with 1 Axes>"
      ]
     },
     "metadata": {
      "needs_background": "light"
     },
     "output_type": "display_data"
    }
   ],
   "source": [
    "fig, axes = plt.subplots(figsize=(12,8))\n",
    "pd.DataFrame(lst_miss).hist(ax=axes)\n",
    "axes.set_ylabel('Number of hours')"
   ]
  },
  {
   "cell_type": "code",
   "execution_count": 115,
   "id": "08c14d63",
   "metadata": {},
   "outputs": [
    {
     "data": {
      "text/plain": [
       "aws      61651\n",
       "pando       87\n",
       "local        1\n",
       "dtype: int64"
      ]
     },
     "execution_count": 115,
     "metadata": {},
     "output_type": "execute_result"
    }
   ],
   "source": [
    "ser_srcs = pd.Series(srcs)\n",
    "ser_srcs.value_counts() # local is one I downloaded"
   ]
  }
 ],
 "metadata": {
  "kernelspec": {
   "display_name": "Python 3 (ipykernel)",
   "language": "python",
   "name": "python3"
  },
  "language_info": {
   "codemirror_mode": {
    "name": "ipython",
    "version": 3
   },
   "file_extension": ".py",
   "mimetype": "text/x-python",
   "name": "python",
   "nbconvert_exporter": "python",
   "pygments_lexer": "ipython3",
   "version": "3.9.15"
  },
  "latex_envs": {
   "LaTeX_envs_menu_present": true,
   "autoclose": false,
   "autocomplete": false,
   "bibliofile": "biblio.bib",
   "cite_by": "apalike",
   "current_citInitial": 1,
   "eqLabelWithNumbers": true,
   "eqNumInitial": 1,
   "hotkeys": {
    "equation": "Ctrl-E",
    "itemize": "Ctrl-I"
   },
   "labels_anchors": false,
   "latex_user_defs": false,
   "report_style_numbering": false,
   "user_envs_cfg": false
  }
 },
 "nbformat": 4,
 "nbformat_minor": 5
}
