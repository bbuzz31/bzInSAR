{
 "cells": [
  {
   "cell_type": "code",
   "execution_count": 6,
   "id": "b6a00f6a",
   "metadata": {
    "init_cell": true
   },
   "outputs": [
    {
     "name": "stdout",
     "output_type": "stream",
     "text": [
      "Automatic pdb calling has been turned OFF\n",
      "/Users/buzzanga/data\n",
      "(MintPy)  2022-03-15 11:59:37.029354\n"
     ]
    }
   ],
   "source": [
    "from __init__ import *\n",
    "%pdb off\n",
    "%matplotlib inline \n",
    "print (os.getenv('dataroot'))\n",
    "print (os.getenv('CONDA_PROMPT_MODIFIER'), datetime.now())"
   ]
  },
  {
   "cell_type": "code",
   "execution_count": 7,
   "id": "73e460e3",
   "metadata": {
    "init_cell": true
   },
   "outputs": [],
   "source": [
    "## keep all exps in dct_exps and then select with below\n",
    "dct_exps  = {\n",
    "    'HR_Exps': dict(root='HR_Exps', nx=11, ny=5, naz=7, nrg=19, gap_fill='_filled'),\n",
    "    'HR_Exps1': dict(root='HR_Exps', nx=11, ny=5, naz=2, nrg=5, gap_fill='_filled'),\n",
    "\n",
    "    'HR0': dict(root='HR', nx=5, ny=5, naz=2, nrg=5, gap_fill='_filled'),\n",
    "    'HR1': dict(root='HR', nx=11, ny=5, naz=2, nrg=5, gap_fill='_filled'),\n",
    "    'HR2': dict(root='HR', nx=33, ny=15, naz=2, nrg=5, gap_fill='_filled'),\n",
    "    'HR2a': dict(root='HR', nx=33, ny=15, naz=3, nrg=5, gap_fill='_filled'),\n",
    "    'HR16': dict(root='HR_2016', nx=11, ny=5, naz=2, nrg=5, gap_fill='_filled')    \n",
    "    }"
   ]
  },
  {
   "cell_type": "code",
   "execution_count": 8,
   "id": "c86f75c7",
   "metadata": {
    "init_cell": true
   },
   "outputs": [
    {
     "name": "stdout",
     "output_type": "stream",
     "text": [
      "Path_Mint (PWD): /Users/buzzanga/data/VLM/Sentinel1/HR/MintPy_2alks_5rlks_33_15\n"
     ]
    }
   ],
   "source": [
    "# ======================= #\n",
    "dct      = dct_exps['HR2']\n",
    "ts_ext   = '_demErr'\n",
    "# ======================= #\n",
    "\n",
    "nx, ny   = dct['nx'], dct['ny']  # half window size\n",
    "naz, nrg = dct['naz'], dct['nrg'] # looks\n",
    "gap_fill = dct['gap_fill']\n",
    "ml, nxy  = f'{naz}alks_{nrg}rlks', f'_{nx}_{ny}'\n",
    "\n",
    "\n",
    "path_vlm   = op.join(os.getenv('dataroot'), 'VLM')\n",
    "wd         = op.join(path_vlm, *f'Sentinel1 {dct[\"root\"]}'.split())\n",
    "path_wraps = op.join(wd, f'PS_DS{nxy}')\n",
    "\n",
    "\n",
    "path_gps = op.join(path_vlm, 'GNSS', 'UNR', f'Midas_GPS-HR_IGS14_crop.csv')\n",
    "\n",
    "path_mp  = op.join(wd, f'MintPy_{ml}{nxy}')\n",
    "\n",
    "path_vup        = op.join(path_mp, 'Vup')\n",
    "\n",
    "\n",
    "path_vup_geo    = op.join(path_vup, 'geo_Vup.h5')\n",
    "path_mask_vup   = op.join(path_vup, 'geo_Vup_mask.h5')  # combined mask\n",
    "path_mask_tcgeo = op.join(path_mp, 'geo_maskTempCoh.h5')\n",
    "path_mask_tcgeo_nc = path_mask_tcgeo.replace('.h5', '.nc')\n",
    "\n",
    "path_ts       = op.join(path_mp, f'timeseries{ts_ext}.h5')\n",
    "path_ts_geo   = op.join(path_mp, f'geo_timeseries{ts_ext}.h5')\n",
    "path_ts_swift = op.join(path_mp, f'geo_timeseries{ts_ext}_swift.h5')\n",
    "\n",
    "\n",
    "path_rate_grd = op.join(path_vup, 'geo_rate.grd')\n",
    "path_rate_nc  = op.join(path_vup, 'geo_rate.nc')\n",
    "path_rate_msk = op.join(path_vup, 'geo_rate_masked.nc') # applied mask to vel\n",
    "path_rate_kmz = op.join(path_vup, 'geo_rate') \n",
    "\n",
    "path_std_grd = op.join(path_vup, 'geo_std.grd')\n",
    "path_std_nc  = op.join(path_vup, 'geo_std.nc')\n",
    "path_std_msk = op.join(path_vup, 'geo_std_masked.nc') # applied mask to std\n",
    "path_std_kmz = op.join(path_vup, 'geo_std') \n",
    "\n",
    "path_mask_vup_nc  = op.join(path_vup, 'geo_Vup_mask.nc')  # combined mask\n",
    "\n",
    "path_transects  = op.join(path_vup, 'Transects')\n",
    "\n",
    "path_wmask = op.join(path_mp, 'geo_waterMask.nc')  # for GMT background\n",
    "\n",
    "## move\n",
    "os.makedirs(path_mp, exist_ok=True)\n",
    "os.chdir(path_mp)\n",
    "print ('Path_Mint (PWD):', path_mp)"
   ]
  },
  {
   "cell_type": "markdown",
   "id": "04049883",
   "metadata": {},
   "source": [
    "## Prep Data"
   ]
  },
  {
   "cell_type": "code",
   "execution_count": 9,
   "id": "96aa1123",
   "metadata": {},
   "outputs": [
    {
     "name": "stdout",
     "output_type": "stream",
     "text": [
      "reference_point.py /Users/buzzanga/data/VLM/Sentinel1/HR/MintPy_2alks_5rlks_33_15/geo_timeseries_demErr.h5 -o /Users/buzzanga/data/VLM/Sentinel1/HR/MintPy_2alks_5rlks_33_15/geo_timeseries_demErr_swift.h5 -l 36.89375  -L -76.4211\n",
      "--------------------------------------------------\n",
      "input reference point in lat/lon: (36.89375, -76.4211)\n",
      "input reference point in y/x: (2258, 797)\n",
      "--------------------------------------------------\n",
      "calculating the temporal average of timeseries file: /Users/buzzanga/data/VLM/Sentinel1/HR/MintPy_2alks_5rlks_33_15/geo_timeseries_demErr.h5\n",
      "reading timeseries data from file: /Users/buzzanga/data/VLM/Sentinel1/HR/MintPy_2alks_5rlks_33_15/geo_timeseries_demErr.h5 ...\n",
      "/Users/buzzanga/Software_InSAR/MintPy_git/mintpy/objects/stack.py:440: RuntimeWarning: Mean of empty slice\n",
      "  dmean = np.nanmean(data, axis=0)\n",
      "writing the referenced data into file: /Users/buzzanga/data/VLM/Sentinel1/HR/MintPy_2alks_5rlks_33_15/geo_timeseries_demErr_swift.h5\n",
      "create HDF5 file: /Users/buzzanga/data/VLM/Sentinel1/HR/MintPy_2alks_5rlks_33_15/geo_timeseries_demErr_swift.h5 with w mode\n",
      "create dataset /timeseries of float32    in size of (153, 3495, 2479)    with compression=None\n",
      "create dataset /bperp      of float32    in size of (153,)     with compression=None\n",
      "create dataset /date       of |S8        in size of (153,)     with compression=None\n",
      "finished writing to /Users/buzzanga/data/VLM/Sentinel1/HR/MintPy_2alks_5rlks_33_15/geo_timeseries_demErr_swift.h5\n",
      "Done.\n"
     ]
    }
   ],
   "source": [
    "# reference timeseries to extensometer location\n",
    "ref_lalo = [36.89375, -76.4211]\n",
    "cmd = f'reference_point.py {path_ts_geo} -o {path_ts_swift} -l {ref_lalo[0]}  -L {ref_lalo[1]}'\n",
    "print (cmd)\n",
    "!{cmd}"
   ]
  },
  {
   "cell_type": "code",
   "execution_count": 23,
   "id": "3e2886af",
   "metadata": {},
   "outputs": [
    {
     "name": "stdout",
     "output_type": "stream",
     "text": [
      "save_gdal.py /Users/buzzanga/data/VLM/Sentinel1/HR/MintPy_2alks_5rlks_33_15/geo_waterMask.h5 -o /Users/buzzanga/data/VLM/Sentinel1/HR/MintPy_2alks_5rlks_33_15/geo_waterMask.nc --of netCDF\n",
      "read metadata from file: /Users/buzzanga/data/VLM/Sentinel1/HR/MintPy_2alks_5rlks_33_15/geo_waterMask.h5\n",
      "read data     from file: /Users/buzzanga/data/VLM/Sentinel1/HR/MintPy_2alks_5rlks_33_15/geo_waterMask.h5\n",
      "initiate GDAL driver: Network Common Data Format\n",
      "create raster band\n",
      "raster row / column number: 3495, 2479\n",
      "raster transform info: (-76.65497753137032, 0.00029319750626338167, 0, 37.30743028377248, 0, -0.0001831383457471231)\n",
      "write data to raster band\n",
      "set projection as: EPSG 4326\n",
      "finished writing to /Users/buzzanga/data/VLM/Sentinel1/HR/MintPy_2alks_5rlks_33_15/geo_waterMask.nc\n"
     ]
    }
   ],
   "source": [
    "# make sure the waterMask netcdf exists for cropping\n",
    "cmd = f'save_gdal.py {path_wmask.replace(\".nc\", \".h5\")} -o {path_wmask} --of netCDF'\n",
    "\n",
    "print (cmd)\n",
    "!{cmd}"
   ]
  },
  {
   "cell_type": "code",
   "execution_count": 19,
   "id": "de0ed3cd",
   "metadata": {},
   "outputs": [
    {
     "data": {
      "text/plain": [
       "'/Users/buzzanga/data/VLM/Sentinel1/HR/MintPy_2alks_5rlks_33_15/geo_timeseries_demErr_swift.h5'"
      ]
     },
     "execution_count": 19,
     "metadata": {},
     "output_type": "execute_result"
    }
   ],
   "source": [
    "from VLM.EC import Swift_Analysis\n",
    "Swift_Analysis.SwiftInject(path_ts_swift)\n",
    "path_ts_swift"
   ]
  },
  {
   "cell_type": "code",
   "execution_count": null,
   "id": "eacda00c",
   "metadata": {},
   "outputs": [],
   "source": []
  }
 ],
 "metadata": {
  "celltoolbar": "Initialization Cell",
  "kernelspec": {
   "display_name": "Python 3 (ipykernel)",
   "language": "python",
   "name": "python3"
  },
  "language_info": {
   "codemirror_mode": {
    "name": "ipython",
    "version": 3
   },
   "file_extension": ".py",
   "mimetype": "text/x-python",
   "name": "python",
   "nbconvert_exporter": "python",
   "pygments_lexer": "ipython3",
   "version": "3.10.9"
  },
  "latex_envs": {
   "LaTeX_envs_menu_present": true,
   "autoclose": false,
   "autocomplete": false,
   "bibliofile": "biblio.bib",
   "cite_by": "apalike",
   "current_citInitial": 1,
   "eqLabelWithNumbers": true,
   "eqNumInitial": 1,
   "hotkeys": {
    "equation": "Ctrl-E",
    "itemize": "Ctrl-I"
   },
   "labels_anchors": false,
   "latex_user_defs": false,
   "report_style_numbering": false,
   "user_envs_cfg": false
  },
  "scenes_data": {
   "active_scene": "Default Scene",
   "init_scene": "",
   "scenes": [
    "Default Scene"
   ]
  }
 },
 "nbformat": 4,
 "nbformat_minor": 5
}
